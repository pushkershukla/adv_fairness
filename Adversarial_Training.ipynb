{
  "cells": [
    {
      "cell_type": "markdown",
      "metadata": {
        "id": "view-in-github",
        "colab_type": "text"
      },
      "source": [
        "<a href=\"https://colab.research.google.com/github/pushkershukla/adv_fairness/blob/main/Adversarial_Training.ipynb\" target=\"_parent\"><img src=\"https://colab.research.google.com/assets/colab-badge.svg\" alt=\"Open In Colab\"/></a>"
      ]
    },
    {
      "cell_type": "code",
      "execution_count": 1,
      "metadata": {
        "colab": {
          "base_uri": "https://localhost:8080/"
        },
        "id": "mrlO6evfWWBN",
        "outputId": "91f4ede4-662b-4f80-ccad-c3e9e34d9633"
      },
      "outputs": [
        {
          "output_type": "stream",
          "name": "stdout",
          "text": [
            "Collecting torchattacks\n",
            "  Downloading torchattacks-3.4.0-py3-none-any.whl (154 kB)\n",
            "\u001b[?25l     \u001b[90m━━━━━━━━━━━━━━━━━━━━━━━━━━━━━━━━━━━━━━━━\u001b[0m \u001b[32m0.0/154.7 kB\u001b[0m \u001b[31m?\u001b[0m eta \u001b[36m-:--:--\u001b[0m\r\u001b[2K     \u001b[91m━━━━━━━━━━━━━━━━━━━━━━━━━━━━\u001b[0m\u001b[90m╺\u001b[0m\u001b[90m━━━━━━━━━━\u001b[0m \u001b[32m112.6/154.7 kB\u001b[0m \u001b[31m3.2 MB/s\u001b[0m eta \u001b[36m0:00:01\u001b[0m\r\u001b[2K     \u001b[90m━━━━━━━━━━━━━━━━━━━━━━━━━━━━━━━━━━━━━━━\u001b[0m \u001b[32m154.7/154.7 kB\u001b[0m \u001b[31m3.2 MB/s\u001b[0m eta \u001b[36m0:00:00\u001b[0m\n",
            "\u001b[?25hRequirement already satisfied: torch>=1.7.1 in /usr/local/lib/python3.10/dist-packages (from torchattacks) (2.0.1+cu118)\n",
            "Requirement already satisfied: torchvision>=0.8.2 in /usr/local/lib/python3.10/dist-packages (from torchattacks) (0.15.2+cu118)\n",
            "Requirement already satisfied: scipy>=0.14.0 in /usr/local/lib/python3.10/dist-packages (from torchattacks) (1.11.2)\n",
            "Requirement already satisfied: tqdm>=4.56.1 in /usr/local/lib/python3.10/dist-packages (from torchattacks) (4.66.1)\n",
            "Collecting requests~=2.25.1 (from torchattacks)\n",
            "  Downloading requests-2.25.1-py2.py3-none-any.whl (61 kB)\n",
            "\u001b[2K     \u001b[90m━━━━━━━━━━━━━━━━━━━━━━━━━━━━━━━━━━━━━━━━\u001b[0m \u001b[32m61.2/61.2 kB\u001b[0m \u001b[31m7.9 MB/s\u001b[0m eta \u001b[36m0:00:00\u001b[0m\n",
            "\u001b[?25hRequirement already satisfied: numpy>=1.19.4 in /usr/local/lib/python3.10/dist-packages (from torchattacks) (1.23.5)\n",
            "Collecting chardet<5,>=3.0.2 (from requests~=2.25.1->torchattacks)\n",
            "  Downloading chardet-4.0.0-py2.py3-none-any.whl (178 kB)\n",
            "\u001b[2K     \u001b[90m━━━━━━━━━━━━━━━━━━━━━━━━━━━━━━━━━━━━━━\u001b[0m \u001b[32m178.7/178.7 kB\u001b[0m \u001b[31m16.4 MB/s\u001b[0m eta \u001b[36m0:00:00\u001b[0m\n",
            "\u001b[?25hCollecting idna<3,>=2.5 (from requests~=2.25.1->torchattacks)\n",
            "  Downloading idna-2.10-py2.py3-none-any.whl (58 kB)\n",
            "\u001b[2K     \u001b[90m━━━━━━━━━━━━━━━━━━━━━━━━━━━━━━━━━━━━━━━━\u001b[0m \u001b[32m58.8/58.8 kB\u001b[0m \u001b[31m7.5 MB/s\u001b[0m eta \u001b[36m0:00:00\u001b[0m\n",
            "\u001b[?25hCollecting urllib3<1.27,>=1.21.1 (from requests~=2.25.1->torchattacks)\n",
            "  Downloading urllib3-1.26.16-py2.py3-none-any.whl (143 kB)\n",
            "\u001b[2K     \u001b[90m━━━━━━━━━━━━━━━━━━━━━━━━━━━━━━━━━━━━━━\u001b[0m \u001b[32m143.1/143.1 kB\u001b[0m \u001b[31m18.6 MB/s\u001b[0m eta \u001b[36m0:00:00\u001b[0m\n",
            "\u001b[?25hRequirement already satisfied: certifi>=2017.4.17 in /usr/local/lib/python3.10/dist-packages (from requests~=2.25.1->torchattacks) (2023.7.22)\n",
            "Requirement already satisfied: filelock in /usr/local/lib/python3.10/dist-packages (from torch>=1.7.1->torchattacks) (3.12.2)\n",
            "Requirement already satisfied: typing-extensions in /usr/local/lib/python3.10/dist-packages (from torch>=1.7.1->torchattacks) (4.5.0)\n",
            "Requirement already satisfied: sympy in /usr/local/lib/python3.10/dist-packages (from torch>=1.7.1->torchattacks) (1.12)\n",
            "Requirement already satisfied: networkx in /usr/local/lib/python3.10/dist-packages (from torch>=1.7.1->torchattacks) (3.1)\n",
            "Requirement already satisfied: jinja2 in /usr/local/lib/python3.10/dist-packages (from torch>=1.7.1->torchattacks) (3.1.2)\n",
            "Requirement already satisfied: triton==2.0.0 in /usr/local/lib/python3.10/dist-packages (from torch>=1.7.1->torchattacks) (2.0.0)\n",
            "Requirement already satisfied: cmake in /usr/local/lib/python3.10/dist-packages (from triton==2.0.0->torch>=1.7.1->torchattacks) (3.27.4.1)\n",
            "Requirement already satisfied: lit in /usr/local/lib/python3.10/dist-packages (from triton==2.0.0->torch>=1.7.1->torchattacks) (16.0.6)\n",
            "Requirement already satisfied: pillow!=8.3.*,>=5.3.0 in /usr/local/lib/python3.10/dist-packages (from torchvision>=0.8.2->torchattacks) (9.4.0)\n",
            "Requirement already satisfied: MarkupSafe>=2.0 in /usr/local/lib/python3.10/dist-packages (from jinja2->torch>=1.7.1->torchattacks) (2.1.3)\n",
            "Requirement already satisfied: mpmath>=0.19 in /usr/local/lib/python3.10/dist-packages (from sympy->torch>=1.7.1->torchattacks) (1.3.0)\n",
            "Installing collected packages: urllib3, idna, chardet, requests, torchattacks\n",
            "  Attempting uninstall: urllib3\n",
            "    Found existing installation: urllib3 2.0.4\n",
            "    Uninstalling urllib3-2.0.4:\n",
            "      Successfully uninstalled urllib3-2.0.4\n",
            "  Attempting uninstall: idna\n",
            "    Found existing installation: idna 3.4\n",
            "    Uninstalling idna-3.4:\n",
            "      Successfully uninstalled idna-3.4\n",
            "  Attempting uninstall: chardet\n",
            "    Found existing installation: chardet 5.2.0\n",
            "    Uninstalling chardet-5.2.0:\n",
            "      Successfully uninstalled chardet-5.2.0\n",
            "  Attempting uninstall: requests\n",
            "    Found existing installation: requests 2.31.0\n",
            "    Uninstalling requests-2.31.0:\n",
            "      Successfully uninstalled requests-2.31.0\n",
            "\u001b[31mERROR: pip's dependency resolver does not currently take into account all the packages that are installed. This behaviour is the source of the following dependency conflicts.\n",
            "google-colab 1.0.0 requires requests==2.31.0, but you have requests 2.25.1 which is incompatible.\n",
            "tweepy 4.13.0 requires requests<3,>=2.27.0, but you have requests 2.25.1 which is incompatible.\n",
            "yfinance 0.2.28 requires requests>=2.31, but you have requests 2.25.1 which is incompatible.\u001b[0m\u001b[31m\n",
            "\u001b[0mSuccessfully installed chardet-4.0.0 idna-2.10 requests-2.25.1 torchattacks-3.4.0 urllib3-1.26.16\n"
          ]
        }
      ],
      "source": [
        "! pip install torchattacks"
      ]
    },
    {
      "cell_type": "code",
      "execution_count": 2,
      "metadata": {
        "colab": {
          "base_uri": "https://localhost:8080/"
        },
        "id": "nhvlrffK5nFD",
        "outputId": "513e2235-aeba-4e8a-9e3c-456c9fe8ee90"
      },
      "outputs": [
        {
          "output_type": "stream",
          "name": "stdout",
          "text": [
            "PyTorch version 2.0.1+cu118\n",
            "GPU-enabled installation? True\n"
          ]
        }
      ],
      "source": [
        "# all imports\n",
        "import numpy as np\n",
        "import matplotlib.pyplot as plt\n",
        "import os\n",
        "import json\n",
        "import numpy as np\n",
        "import PIL.Image as Image\n",
        "\n",
        "import copy\n",
        "import torch\n",
        "import torch.nn as nn\n",
        "import torch.nn.functional as F\n",
        "from torch import optim\n",
        "from torchvision import datasets, transforms, models\n",
        "import torch.utils.data as data\n",
        "import zipfile\n",
        "import pandas as pd\n",
        "import torchvision\n",
        "import time\n",
        "from torch.utils.data import Dataset\n",
        "from tqdm import tqdm\n",
        "# reproducibility\n",
        "seed = 42\n",
        "# SYSTEM\n",
        "np.random.seed(seed)\n",
        "#CUDA\n",
        "torch.manual_seed(seed)\n",
        "device = torch.device(\"cuda\" if torch.cuda.is_available() else \"cpu\")\n",
        "if torch.cuda.is_available():\n",
        "  torch.cuda.manual_seed_all(seed)\n",
        "# CUDNN\n",
        "torch.backends.cudnn.deterministic = True\n",
        "torch.backends.cudnn.benchmark = False\n",
        "\n",
        "# version\n",
        "print(\"PyTorch version {}\".format(torch.__version__))\n",
        "print(\"GPU-enabled installation? {}\".format(torch.cuda.is_available()))"
      ]
    },
    {
      "cell_type": "code",
      "execution_count": 3,
      "metadata": {
        "colab": {
          "base_uri": "https://localhost:8080/"
        },
        "id": "2tQ_QLpWWmiz",
        "outputId": "7bf5bd2e-bcab-4072-c85e-b89ed40fe9cd"
      },
      "outputs": [
        {
          "output_type": "stream",
          "name": "stdout",
          "text": [
            "Mounted at /content/gdrive\n"
          ]
        }
      ],
      "source": [
        "# mount gdrive\n",
        "from google.colab import drive\n",
        "drive.mount('/content/gdrive')"
      ]
    },
    {
      "cell_type": "code",
      "execution_count": 4,
      "metadata": {
        "id": "RI0W4haRWrcn"
      },
      "outputs": [],
      "source": [
        "dataset_dir='/content/gdrive/MyDrive/downloads/celeba/celeba.zip'\n",
        "\n",
        "with zipfile.ZipFile(dataset_dir,\"r\") as zip_ref:\n",
        "  zip_ref.extractall(\"faces/\")\n",
        "\n",
        "with zipfile.ZipFile(\"faces/celeba/img_align_celeba.zip\",\"r\") as zip_ref:\n",
        "  zip_ref.extractall(\"faces/celeba\")"
      ]
    },
    {
      "cell_type": "code",
      "execution_count": 5,
      "metadata": {
        "colab": {
          "base_uri": "https://localhost:8080/"
        },
        "id": "1wyyl8sEWtcm",
        "outputId": "a87e6b28-b32c-4d65-cbf2-a3a8765844b7"
      },
      "outputs": [
        {
          "output_type": "stream",
          "name": "stdout",
          "text": [
            "faces/celeba/img_align_celeba\n"
          ]
        }
      ],
      "source": [
        "image_path=\"faces\"\n",
        "data_root='faces/celeba'\n",
        "dataset_folder = f'{data_root}/img_align_celeba'\n",
        "print(dataset_folder)"
      ]
    },
    {
      "cell_type": "code",
      "execution_count": 5,
      "metadata": {
        "id": "Wqc_AzILXUkK"
      },
      "outputs": [],
      "source": []
    },
    {
      "cell_type": "markdown",
      "metadata": {
        "id": "H-Kw0JxsXpVk"
      },
      "source": [
        "## Data Loading\n",
        "Code for loading the dataset"
      ]
    },
    {
      "cell_type": "code",
      "execution_count": 6,
      "metadata": {
        "id": "JDUSop5sXYqq"
      },
      "outputs": [],
      "source": [
        "'''\n",
        "Hyper parameters for dataloaders\n",
        "'''\n",
        "batch_size = 128\n",
        "smile_attr_idx=31\n",
        "gender_attr_idx=20\n",
        "GRAYSCALE = False\n",
        "num_classes=2\n",
        "num_epochs=15\n",
        "\n",
        "noise_setting_1={#'0':{'eps':0},\n",
        "                '0.00001':{'eps':0.00001},\n",
        "                '0.0001':{'eps':0.0001},\n",
        "                '0.0005':{'eps':0.0005},\n",
        "                #'0.0007':{'eps':0.0007},\n",
        "                '0.001':{'eps':0.001},\n",
        "                '0.003':{'eps':0.003},\n",
        "                '0.005':{'eps':0.05},\n",
        "                '0.01':{'eps':0.05},\n",
        "                '0.25':{'eps':0.25}\n",
        "                }"
      ]
    },
    {
      "cell_type": "code",
      "execution_count": 7,
      "metadata": {
        "colab": {
          "base_uri": "https://localhost:8080/"
        },
        "id": "QEslbEbUVpqp",
        "outputId": "1f6394c4-eebd-488e-ce34-34eba93a6cce"
      },
      "outputs": [
        {
          "output_type": "stream",
          "name": "stdout",
          "text": [
            "Train set: 162770\n",
            "Validation set: 19867\n",
            "Test set: 19867\n"
          ]
        }
      ],
      "source": [
        "from torch.utils.data import DataLoader\n",
        "\n",
        "transform_train = transforms.Compose([\n",
        "     transforms.RandomCrop([178, 178]),\n",
        "     transforms.RandomHorizontalFlip(),\n",
        "     transforms.Resize([128, 128]),\n",
        "     transforms.ToTensor(),\n",
        " ])\n",
        "transform = transforms.Compose([\n",
        "     transforms.CenterCrop([178, 178]),\n",
        "     transforms.Resize([128, 128]),\n",
        "     transforms.ToTensor(),\n",
        " ])\n",
        "\n",
        "celeba_train_dataset = torchvision.datasets.CelebA(\n",
        "     image_path, split='train',\n",
        "     target_type='attr', download=False,\n",
        "     transform=transform_train\n",
        " )\n",
        "\n",
        "\n",
        "celeba_valid_dataset = torchvision.datasets.CelebA(\n",
        "     image_path, split='valid',\n",
        "     target_type='attr', download=False,\n",
        "     transform=transform\n",
        " )\n",
        "celeba_test_dataset = torchvision.datasets.CelebA(\n",
        "     image_path, split='test',\n",
        "     target_type='attr', download=False,\n",
        "     transform=transform\n",
        " )\n",
        "train_dl = DataLoader(celeba_train_dataset,\n",
        "                       batch_size, shuffle=True)\n",
        "valid_dl = DataLoader(celeba_valid_dataset,\n",
        "                       batch_size, shuffle=False)\n",
        "test_dl = DataLoader(celeba_test_dataset,\n",
        "                     batch_size, shuffle=False)\n",
        "print('Train set:', len(celeba_train_dataset))\n",
        "\n",
        "print('Validation set:', len(celeba_valid_dataset))\n",
        "print('Test set:', len(celeba_valid_dataset))"
      ]
    },
    {
      "cell_type": "markdown",
      "metadata": {
        "id": "pvsNlH-XXx7W"
      },
      "source": [
        "## Setting up the Resent 18 model"
      ]
    },
    {
      "cell_type": "code",
      "execution_count": 8,
      "metadata": {
        "id": "kwjCp2cvW_cU"
      },
      "outputs": [],
      "source": [
        "def set_parameter_requires_grad(model, feature_extracting):\n",
        "    if feature_extracting:\n",
        "        for param in model.parameters():\n",
        "            param.requires_grad = False"
      ]
    },
    {
      "cell_type": "code",
      "execution_count": 9,
      "metadata": {
        "id": "Thk0_IR1qszJ"
      },
      "outputs": [],
      "source": [
        "##########################\n",
        "### MODEL\n",
        "##########################\n",
        "\n",
        "\n",
        "def conv3x3(in_planes, out_planes, stride=1):\n",
        "    \"\"\"3x3 convolution with padding\"\"\"\n",
        "    return nn.Conv2d(in_planes, out_planes, kernel_size=3, stride=stride,\n",
        "                     padding=1, bias=False)\n",
        "\n",
        "\n",
        "class Bottleneck(nn.Module):\n",
        "    expansion = 4\n",
        "\n",
        "    def __init__(self, inplanes, planes, stride=1, downsample=None):\n",
        "        super(Bottleneck, self).__init__()\n",
        "        self.conv1 = nn.Conv2d(inplanes, planes, kernel_size=1, bias=False)\n",
        "        self.bn1 = nn.BatchNorm2d(planes)\n",
        "        self.conv2 = nn.Conv2d(planes, planes, kernel_size=3, stride=stride,\n",
        "                               padding=1, bias=False)\n",
        "        self.bn2 = nn.BatchNorm2d(planes)\n",
        "        self.conv3 = nn.Conv2d(planes, planes * 4, kernel_size=1, bias=False)\n",
        "        self.bn3 = nn.BatchNorm2d(planes * 4)\n",
        "        self.relu = nn.ReLU(inplace=True)\n",
        "        self.downsample = downsample\n",
        "        self.stride = stride\n",
        "\n",
        "    def forward(self, x):\n",
        "        residual = x\n",
        "\n",
        "        out = self.conv1(x)\n",
        "        out = self.bn1(out)\n",
        "        out = self.relu(out)\n",
        "\n",
        "        out = self.conv2(out)\n",
        "        out = self.bn2(out)\n",
        "        out = self.relu(out)\n",
        "\n",
        "        out = self.conv3(out)\n",
        "        out = self.bn3(out)\n",
        "\n",
        "        if self.downsample is not None:\n",
        "            residual = self.downsample(x)\n",
        "\n",
        "        out += residual\n",
        "        out = self.relu(out)\n",
        "\n",
        "        return out\n",
        "\n",
        "\n",
        "\n",
        "\n",
        "class ResNet(nn.Module):\n",
        "\n",
        "    def __init__(self, block, layers, num_classes, grayscale):\n",
        "        self.inplanes = 64\n",
        "        if grayscale:\n",
        "            in_dim = 1\n",
        "        else:\n",
        "            in_dim = 3\n",
        "        super(ResNet, self).__init__()\n",
        "        self.conv1 = nn.Conv2d(in_dim, 64, kernel_size=7, stride=2, padding=3,\n",
        "                               bias=False)\n",
        "        self.bn1 = nn.BatchNorm2d(64)\n",
        "        self.relu = nn.ReLU(inplace=True)\n",
        "        self.maxpool = nn.MaxPool2d(kernel_size=3, stride=2, padding=1)\n",
        "        self.layer1 = self._make_layer(block, 64, layers[0])\n",
        "        self.layer2 = self._make_layer(block, 128, layers[1], stride=2)\n",
        "        self.layer3 = self._make_layer(block, 256, layers[2], stride=2)\n",
        "        self.layer4 = self._make_layer(block, 512, layers[3], stride=2)\n",
        "        self.avgpool = nn.AvgPool2d(7, stride=1, padding=2)\n",
        "        self.fc = nn.Linear(2048 * block.expansion, num_classes)\n",
        "\n",
        "        for m in self.modules():\n",
        "            if isinstance(m, nn.Conv2d):\n",
        "                n = m.kernel_size[0] * m.kernel_size[1] * m.out_channels\n",
        "                m.weight.data.normal_(0, (2. / n)**.5)\n",
        "            elif isinstance(m, nn.BatchNorm2d):\n",
        "                m.weight.data.fill_(1)\n",
        "                m.bias.data.zero_()\n",
        "\n",
        "    def _make_layer(self, block, planes, blocks, stride=1):\n",
        "        downsample = None\n",
        "        if stride != 1 or self.inplanes != planes * block.expansion:\n",
        "            downsample = nn.Sequential(\n",
        "                nn.Conv2d(self.inplanes, planes * block.expansion,\n",
        "                          kernel_size=1, stride=stride, bias=False),\n",
        "                nn.BatchNorm2d(planes * block.expansion),\n",
        "            )\n",
        "\n",
        "        layers = []\n",
        "        layers.append(block(self.inplanes, planes, stride, downsample))\n",
        "        self.inplanes = planes * block.expansion\n",
        "        for i in range(1, blocks):\n",
        "            layers.append(block(self.inplanes, planes))\n",
        "\n",
        "        return nn.Sequential(*layers)\n",
        "\n",
        "    def forward(self, x):\n",
        "        #print(\"Shape of input\",x.shape)\n",
        "        x = self.conv1(x)\n",
        "        x = self.bn1(x)\n",
        "        x = self.relu(x)\n",
        "        x = self.maxpool(x)\n",
        "\n",
        "        x = self.layer1(x)\n",
        "        x = self.layer2(x)\n",
        "        x = self.layer3(x)\n",
        "        x = self.layer4(x)\n",
        "\n",
        "        x = self.avgpool(x)\n",
        "        x = x.view(x.size(0), -1)\n",
        "        logits = self.fc(x)\n",
        "\n",
        "        probas = F.softmax(logits, dim=0)\n",
        "\n",
        "        return  probas\n",
        "\n",
        "\n",
        "\n",
        "\n",
        "def resnet18(num_classes, grayscale):\n",
        "    \"\"\"Constructs a ResNet-101 model.\"\"\"\n",
        "    model = ResNet(block=Bottleneck,\n",
        "                   layers=[2,2,2,2],\n",
        "                   #layers=[3, 4, 23, 3],\n",
        "                   num_classes=num_classes,\n",
        "                   grayscale=grayscale)\n",
        "    return model\n",
        "\n",
        "def load_model(model,model_name,model_path,device):\n",
        "  final_path=os.path.join(model_path,model_name)\n",
        "\n",
        "  model = model.to(device)\n",
        "  model_weights = torch.load(final_path,map_location=device)\n",
        "  model.load_state_dict(model_weights)\n",
        "  #model.eval()\n",
        "  return model\n",
        "\n",
        "def comp_model(model1,model2):\n",
        "  for p1, p2 in zip(model1.parameters(), model2.parameters()):\n",
        "      if p1.data.ne(p2.data).sum() > 0:\n",
        "          return False\n",
        "  return True\n",
        "\n",
        "def get_pred(local_model, images, device,logits='False'):\n",
        "    logits = local_model(images.to(device))\n",
        "    _, pres = logits.max(dim=1)\n",
        "    return pres,logits\n",
        "\n",
        "\n",
        "\n",
        "def imshow(img, title):\n",
        "    img = torchvision.utils.make_grid(img.cpu().data, normalize=True)\n",
        "    npimg = img.numpy()\n",
        "    fig = plt.figure(figsize = (5, 15))\n",
        "    plt.imshow(np.transpose(npimg,(1,2,0)))\n",
        "    plt.title(title)\n",
        "    plt.show()\n",
        "class single_output_network(nn.Module):\n",
        "    def __init__(self,input_network):\n",
        "      super(single_output_network, self).__init__()\n",
        "      self.input_network=input_network\n",
        "    def forward(self,x):\n",
        "      probas= self.input_network(x)\n",
        "      #print(len (probas))\n",
        "      return probas[1]\n",
        "\n"
      ]
    },
    {
      "cell_type": "markdown",
      "metadata": {
        "id": "hwwXDZmoZCax"
      },
      "source": [
        "### Loading the already trained smile and gender models."
      ]
    },
    {
      "cell_type": "code",
      "execution_count": 10,
      "metadata": {
        "id": "1ZEZZobQYKkc"
      },
      "outputs": [],
      "source": [
        "#smile_model_name=\"smile_model_new__single_out_resnet50.pt\"\n",
        "#smile_save_path=\"/content/gdrive/MyDrive/FairFaceRecExptResults/\"\n",
        "smile_model_name=\"smile_model_new_resnet50.pt\"\n",
        "smile_save_path=\"/content/gdrive/MyDrive/FairFaceRecExptResults/\"\n",
        "model_smile = resnet18(num_classes, GRAYSCALE)\n",
        "model_smile= load_model(model_smile,smile_model_name,smile_save_path,device)\n",
        "#model_smile=single_output_network(model_smile)\n",
        "model_smile=model_smile.to(device)"
      ]
    },
    {
      "cell_type": "code",
      "execution_count": 11,
      "metadata": {
        "id": "juNXOgnjZtLe"
      },
      "outputs": [],
      "source": [
        "#gender_model_name=\"gernder_model_new__single_out_resnet50.pt\"\n",
        "#gender_save_path=\"/content/gdrive/MyDrive/FairFaceRecExptResults/\"\n",
        "gender_model_name=\"gender_model2_new_resnet50.pt\"\n",
        "gender_save_path=\"/content/gdrive/MyDrive/FairFaceRecExptResults/\"\n",
        "model_gender=resnet18(num_classes, GRAYSCALE)\n",
        "model_gender=load_model(model_gender,gender_model_name,gender_save_path,device)\n",
        "#model_gender=single_output_network(model_smile)\n",
        "model_gender=model_gender.to(device)\n"
      ]
    },
    {
      "cell_type": "markdown",
      "metadata": {
        "id": "C_uc46oxaNxP"
      },
      "source": [
        "## Adversarial Analysis section"
      ]
    },
    {
      "cell_type": "code",
      "execution_count": 12,
      "metadata": {
        "colab": {
          "base_uri": "https://localhost:8080/",
          "height": 470
        },
        "id": "eAAcbCzGayIN",
        "outputId": "c6f489f3-0bb7-43de-f413-32a6111377b6"
      },
      "outputs": [
        {
          "output_type": "display_data",
          "data": {
            "text/plain": [
              "<Figure size 500x1500 with 1 Axes>"
            ],
            "image/png": "[encoded data removed]"
          },
          "metadata": {}
        }
      ],
      "source": [
        "import torchattacks\n",
        "\n",
        "class Adverserial_Analysis:\n",
        "    def __init__(self,atk_name,classifier,concept_model,\n",
        "                 classifier_pred,concept_pred,\n",
        "                 classifier_pred_kwargs,concept_pred_kwargs,\n",
        "                 atk_kwargs):\n",
        "\n",
        "      '''\n",
        "      Variables :-\n",
        "      atk_name :- Name of the attack\n",
        "      classifier :- the oroginal classifier model (Eg:- Smile detector model or Melanoma Classifier)\n",
        "      concept_model:- The concept_detection model (Eg:- Skin detector or gender classifier)\n",
        "      classifier_pred :- The function returning the output of the classifier. The output\n",
        "                          should be a tuple containing the class index and output probabilities of the classifier\n",
        "      concept_pred :- The function returning the output of the concept. The output\n",
        "                          should be a tuple containing the class index and output probabilities of the classifier\n",
        "\n",
        "      classifier_pred_kwargs :- Dictionary containting the parameters associated with the classifier function\n",
        "      concept_pred_kwargs:-  Dictionary containting the parameters associated with the concept\n",
        "      atk_kwargs :- Dictionary containing the parameters associated with the adverserial attack\n",
        "      '''\n",
        "      self.atk_name=atk_name\n",
        "      self.classifier=classifier\n",
        "      self.concept_model=concept_model\n",
        "      self.classifier_pred=classifier_pred\n",
        "      self.concept_pred=concept_pred\n",
        "      self.classifier_pred_kwargs=classifier_pred_kwargs\n",
        "      self.concept_pred_kwargs=concept_pred_kwargs\n",
        "      self.atk_kwargs=atk_kwargs\n",
        "      self.atk=None\n",
        "\n",
        "\n",
        "    def generate_adverserial_attack(self,atk_name,kwargs=None):\n",
        "      '''\n",
        "      Function that returns the adequate adveserial attack\n",
        "      Input :-\n",
        "      atk_name - Name of the attack\n",
        "      kwargs:- Paramaeters associated with the attack\n",
        "      Output :- the attack initialized\n",
        "      '''\n",
        "      #print(\"Attack _name\",atk_name)\n",
        "      #print(\"Kwargs\",kwargs)\n",
        "      atk=None\n",
        "      if kwargs is None:\n",
        "        kwargs=self.atk_kwargs\n",
        "      if atk_name is None:\n",
        "        atk_name = self.atk_name\n",
        "      if (atk_name=='Square'):\n",
        "        atk= torchattacks.Square(self.concept_model,**kwargs)\n",
        "      if (atk_name=='FGSM'):\n",
        "        atk= torchattacks.FGSM(self.concept_model,**kwargs)\n",
        "      if (atk_name=='BIM'):\n",
        "        pass\n",
        "      if (atk_name=='PGD'):\n",
        "        pass\n",
        "      if (atk_name==\"OnePixel\"):\n",
        "        pass\n",
        "      if (atk_name==\"random\") :\n",
        "        print(\"there\")\n",
        "        atk= torchattacks.attacks.gn.GN(self.concept_model,**kwargs)\n",
        "      #print( \"Torch attack USed\",atk)\n",
        "      return atk\n",
        "    def generate_adverserial_images(self,imgs,classifier_fn=None,\n",
        "                                    pred_fn=None,pred_kwargs=None,\n",
        "                                    atk_name=None,atk_kwargs=None,labels=None):\n",
        "        '''\n",
        "        Generates Adverserial Images for a given attack\n",
        "        Input:-\n",
        "        imgs:- A single image or a bunch of images\n",
        "        classifier_fn:- The classifier that is to be fooled (Deafult :- Concept Classifier , Eg:- Gender for a smile classifier)\n",
        "        pred_fn:- The associated prediction function with the classifier_fn (Default:- Concept pred_fn)\n",
        "        pred_kwargs:- kwargs of the prediction function , Input Type :- Dictionary\n",
        "        atk_name:- Name of the attack\n",
        "        atk_kwargs:- Parameters associated with the attack type , Input Type:- Dictionary\n",
        "        Output:-\n",
        "        Returns an image or a set of imgaes that have been corrupted by the respective adverserial attack\n",
        "        '''\n",
        "        #print(atk_name)\n",
        "        if (imgs.dim()==3):\n",
        "            imgs=imgs.unsqueeze(dim=0)\n",
        "        if classifier_fn is None:\n",
        "          classifier_fn=self.concept_model\n",
        "        if atk_name is None:\n",
        "          atk_name =self.atk_name\n",
        "        if atk_kwargs is None:\n",
        "          atk_kwargs=self.atk_kwargs\n",
        "        if pred_fn is None:\n",
        "          pred_fn=self.concept_pred\n",
        "        if pred_kwargs is None:\n",
        "          pred_kwargs=self.concept_pred_kwargs\n",
        "\n",
        "        atk=self.generate_adverserial_attack(atk_name,atk_kwargs)\n",
        "        preds,_=pred_fn(classifier_fn,imgs,**pred_kwargs)\n",
        "        preds=preds.type(torch.LongTensor)\n",
        "\n",
        "        #print(preds.dtype,imgs.dtype)\n",
        "\n",
        "        if labels is None :\n",
        "          return  atk(imgs,preds), preds\n",
        "        else :\n",
        "          labels=labels.type(torch.LongTensor)\n",
        "          return atk (imgs,labels), labels\n",
        "\n",
        "    def get_classifier_values(self,imgs):\n",
        "      '''\n",
        "      Funtion to generate outputs (logits and classes) from the classifier and the concept model\n",
        "      Input :-\n",
        "      imgs:- Image or a set of images\n",
        "      Output:-\n",
        "      The output is a tuple containing (clssifier_pred,classifier_logits, concept_pred,concept_logits)\n",
        "      where\n",
        "      classifier_pred is the output class returned by the classifier\n",
        "      classifier_logits are the output logits returned by the classifier\n",
        "      concept_pred is the output class returned by the concept model\n",
        "      concept_logits are the output logits returned by the concept model\n",
        "\n",
        "\n",
        "      '''\n",
        "\n",
        "      ## Note define a seperate class for the the hyperparameters of the class function.\n",
        "\n",
        "      if (imgs.dim()==3):\n",
        "        imgs=imgs.unsqueeze(dim=0)\n",
        "      adv_clssifier_pred,adv_classifier_logits=self.classifier_pred(self.classifier,imgs,**self.classifier_pred_kwargs)\n",
        "      adv_concept_pred,adv_concept_logits=self.concept_pred(self.concept_model,imgs,**self.concept_pred_kwargs)\n",
        "      return (adv_clssifier_pred,adv_classifier_logits.detach(),adv_concept_pred,adv_concept_logits.detach())\n",
        "    def loop_over_noise(self,imgs,noise_settings,\n",
        "                        pred_fn=None,pred_kwargs=None,\n",
        "                        classifier_fn=None,atk_name=None,\n",
        "                        atk_kwargs=None,labels=None):\n",
        "      '''\n",
        "      Given different noise magnitudes, the funnction returns a dictionary of predictions over different noise magnitudes\n",
        "\n",
        "      '''\n",
        "\n",
        "      adv_imgs=[]\n",
        "      final_labels=[]\n",
        "      class_preds={}\n",
        "      if pred_fn is None:\n",
        "        pred_fn=self.concept_pred\n",
        "      for noise_magnitude,atk_kwargs in noise_settings.items():\n",
        "\n",
        "        adverserial_imgs,pred_labels=self.generate_adverserial_images(imgs,classifier_fn,\n",
        "                                    pred_fn,pred_kwargs,\n",
        "                                    atk_name,atk_kwargs,labels)\n",
        "\n",
        "        preds=self.get_classifier_values(adverserial_imgs)\n",
        "        class_preds.update({str(noise_magnitude):preds})\n",
        "        adv_imgs.extend(adverserial_imgs)\n",
        "        final_labels.extend(pred_labels)\n",
        "        #print(adv_images[0].shape,adv_images[1].shape)\n",
        "\n",
        "\n",
        "      return adv_imgs, class_preds,pred_labels\n",
        "    def generate_random_noise(self,method):\n",
        "      pass\n",
        "    def show_image_plots():\n",
        "      pass\n",
        "\n",
        "\n",
        "'''\n",
        "Test Cases\n",
        "'''\n",
        "it=iter(test_dl)\n",
        "images,labels=next(it)\n",
        "gender_labels=labels[:,gender_attr_idx]\n",
        "smile_labels=labels[:,smile_attr_idx]\n",
        "images=images.to(device)\n",
        "#print (\"Image Shape\",images.shape)\n",
        "#output=model_smile(images)\n",
        "\n",
        "#print(get_pred(model_gender,images,device))\n",
        "#_, pres = output.max(dim=1)\n",
        "#print(pres.shape)\n",
        "\n",
        "adv_analyzer=Adverserial_Analysis(\"FGSM\",model_smile,model_gender,\n",
        "                                  get_pred,get_pred,\n",
        "                                  {'device':device,'logits':False},{'device':device,'logits':False},\n",
        "                                  {'eps':0.05})\n",
        "#print(images.shape)\n",
        "adv_images,adv_labels=adv_analyzer.generate_adverserial_images(images,classifier_fn=None,\n",
        "                                    pred_fn=None,pred_kwargs=None,\n",
        "                                    atk_name=None,atk_kwargs=None,labels=gender_labels)\n",
        "\n",
        "#print(adv_images.shape )\n",
        "\n",
        "\n",
        "adv_imgs, class_preds,label_set = adv_analyzer.loop_over_noise(images,noise_setting_1,\n",
        "                        pred_fn=None,pred_kwargs=None,\n",
        "                        classifier_fn=None,atk_name=None,\n",
        "                        atk_kwargs=None,labels=gender_labels)\n",
        "#print(adv_images.shape)\n",
        "imshow(adv_images[2],\"Test Images\")\n"
      ]
    },
    {
      "cell_type": "code",
      "execution_count": 13,
      "metadata": {
        "colab": {
          "base_uri": "https://localhost:8080/"
        },
        "id": "VPWQvHzidz79",
        "outputId": "f6aafbcb-8560-4d30-c034-392a17702553"
      },
      "outputs": [
        {
          "output_type": "stream",
          "name": "stdout",
          "text": [
            "\n"
          ]
        }
      ],
      "source": [
        "print()\n",
        "#print (get_pred(model_smile,images,device))\n",
        "#print (get_pred(model_gender,adv_images,device))"
      ]
    },
    {
      "cell_type": "markdown",
      "metadata": {
        "id": "CmOPpqhAcuJA"
      },
      "source": [
        "# Metrics"
      ]
    },
    {
      "cell_type": "code",
      "execution_count": 14,
      "metadata": {
        "id": "nRiaqZ6KP5X1"
      },
      "outputs": [],
      "source": [
        "def evaluate(model,dataloader,protected_attr_idx,labels_idx):\n",
        "    '''\n",
        "    Calls a data loader, predicts the outputs and returns the outputs and the original data in pandas dataframe\n",
        "    '''\n",
        "    protected_attrs=[]\n",
        "    true_labels=[]\n",
        "    predictions=[]\n",
        "    for i , (inputs,labels) in enumerate(dataloader):\n",
        "        inputs=inputs.to(device)\n",
        "        labels=labels.to(device)\n",
        "        model=model.to(device)\n",
        "\n",
        "        outputs,_=model(inputs)\n",
        "        #print(outputs)\n",
        "\n",
        "\n",
        "        _,preds = torch.max(outputs, 1)\n",
        "        #print(preds)\n",
        "        predictions.extend(preds.tolist())\n",
        "        protected_attr=labels[:,protected_attr_idx]\n",
        "        true_label=labels[:,labels_idx]\n",
        "        protected_attrs.extend(protected_attr.tolist())\n",
        "        true_labels.extend(true_label.tolist())\n",
        "    print(\"True label\",true_labels)\n",
        "    print (\"Protected Attribute\",protected_attrs)\n",
        "    print(\"Predicted Value\", predictions)\n",
        "    df=pd.DataFrame(columns=[\"True Labels\", \"Protected Atrributes\", \"Predicted Value\"])\n",
        "    df[\"True Labels\"]=true_labels\n",
        "    df[\"Protected Atrributes\"]=protected_attrs\n",
        "    df[\"Predicted Value\"]=predictions\n",
        "    return df\n",
        "from sklearn.metrics import accuracy_score\n",
        "def calc_accuracy_df (df):\n",
        "    '''\n",
        "    Calculates the accuracy\n",
        "    '''\n",
        "    true_labels = df[\"True Labels\"]\n",
        "    predicted_values = df[\"Predicted Value\"]\n",
        "\n",
        "    accuracy = accuracy_score(true_labels, predicted_values)\n",
        "    return accuracy\n",
        "def group_wise_accuracy (df):\n",
        "    '''\n",
        "    Returns the group wise accuracy of the model\n",
        "    '''\n",
        "    accuracy_results = {}\n",
        "    groups = df[\"Protected Atrributes\"].unique()\n",
        "    classes = df[\"True Labels\"].unique()\n",
        "\n",
        "    for group in groups:\n",
        "      for class_label in classes:\n",
        "        subset_df = df[(df[\"Protected Atrributes\"] == group) & (df[\"True Labels\"] == class_label)]\n",
        "        true_labels = subset_df[\"True Labels\"]\n",
        "        predicted_values = subset_df[\"Predicted Value\"]\n",
        "        accuracy = accuracy_score(true_labels, predicted_values)\n",
        "        accuracy_results[(group, class_label)] = accuracy\n",
        "\n",
        "    print(accuracy_results)\n",
        "\n",
        "def fairness_metrics ():\n",
        "  '''\n",
        "  Returns the fair metrics of the model\n",
        "  '''\n",
        "def compute_accuracy(y_hat, all_y_true, label_names, acc_matrix, target_attribute):\n",
        "    label_order = {label_names[i] : i for i in range(len(label_names))}\n",
        "    y_true = all_y_true[:, label_order[target_attribute]].unsqueeze(dim=1)\n",
        "\n",
        "    correct = y_hat.eq(y_true.view_as(y_hat)).sum()\n",
        "    acc_value = (correct.float() / y_true.shape[0]).detach().item()\n",
        "\n",
        "    # Update the accuracy matrix\n",
        "    for i in range(y_hat.shape[0]):\n",
        "        pred = y_hat[i]\n",
        "        sample = all_y_true[i]\n",
        "        is_male = sample[label_order['Male']].item() == 1\n",
        "        is_smiling = sample[label_order['Smiling']].item() == 1\n",
        "        target = sample[label_order[target_attribute]]\n",
        "        if is_male and is_smiling:\n",
        "            acc_matrix['Male Smiling']['total'] += 1\n",
        "            if pred.item() == target.item():\n",
        "                acc_matrix['Male Smiling']['correct'] += 1\n",
        "        elif is_male and (not is_smiling):\n",
        "            acc_matrix['Male Not Smiling']['total'] += 1\n",
        "            if pred.item() == target.item():\n",
        "                acc_matrix['Male Not Smiling']['correct'] += 1\n",
        "        elif (not is_male) and is_smiling:\n",
        "            acc_matrix['Female Smiling']['total'] += 1\n",
        "            if pred.item() == target.item():\n",
        "                acc_matrix['Female Smiling']['correct'] += 1\n",
        "        else:\n",
        "            acc_matrix['Female Not Smiling']['total'] += 1\n",
        "            if pred.item() == target.item():\n",
        "                acc_matrix['Female Not Smiling']['correct'] += 1\n",
        "\n",
        "    return acc_value, acc_matrix"
      ]
    },
    {
      "cell_type": "markdown",
      "metadata": {
        "id": "eH8kl__wSUFJ"
      },
      "source": [
        "## Adversarial DataLoader"
      ]
    },
    {
      "cell_type": "code",
      "execution_count": 15,
      "metadata": {
        "colab": {
          "base_uri": "https://localhost:8080/",
          "height": 161
        },
        "id": "4t-xTtL_SRrK",
        "outputId": "81018237-35c8-463f-f1ab-c4f94a5b450e"
      },
      "outputs": [
        {
          "output_type": "execute_result",
          "data": {
            "text/plain": [
              "'\\nclass AdversarialDataset(Dataset):\\n    def __init__(self, original_dataset, adv_analyzer,noise_magnitudes):\\n        self.original_dataset = original_dataset\\n        self.adv_analyzer=adv_analyzer\\n        self.noise_magnitudes=noise_magnitudes\\n\\n    def __len__(self):\\n        return len(self.original_dataset)*len(self.noise_magnitudes.keys())\\n\\n\\n    def __getitem__(self, idx):\\n        print(idx,int(idx - (idx/len (self.original_dataset))*len (self.original_dataset)))\\n        print (len(self.original_dataset))\\n        if (idx % len (self.original_dataset)==0):\\n            original_image, label = self.original_dataset[idx]\\n        else :\\n            original_image, label = self.original_dataset[idx-int(idx/len (self.original_dataset))]\\n        adv_imgs, class_preds,label_set = adv_analyzer.loop_over_noise(original_image,noise_settings,\\n                                          pred_fn=None,pred_kwargs=None,\\n                                          classifier_fn=None,atk_name=None,\\n                                          atk_kwargs=None,labels=gender_labels)\\n        print(type(adv_imgs),type(label_set))\\n        return adv_imgs, label_set\\nadv_dataset=AdversarialDataset(celeba_train_dataset,adv_analyzer,noise_settings)\\naug_data_loader = DataLoader(adv_dataset, batch_size=batch_size, shuffle=True)\\nit=iter(aug_data_loader)\\nimages,labels=next(it)\\n'"
            ],
            "application/vnd.google.colaboratory.intrinsic+json": {
              "type": "string"
            }
          },
          "metadata": {},
          "execution_count": 15
        }
      ],
      "source": [
        "'''\n",
        "class AdversarialDataset(Dataset):\n",
        "    def __init__(self, original_dataset, adv_analyzer,noise_magnitudes):\n",
        "        self.original_dataset = original_dataset\n",
        "        self.adv_analyzer=adv_analyzer\n",
        "        self.noise_magnitudes=noise_magnitudes\n",
        "\n",
        "    def __len__(self):\n",
        "        return len(self.original_dataset)*len(self.noise_magnitudes.keys())\n",
        "\n",
        "\n",
        "    def __getitem__(self, idx):\n",
        "        print(idx,int(idx - (idx/len (self.original_dataset))*len (self.original_dataset)))\n",
        "        print (len(self.original_dataset))\n",
        "        if (idx % len (self.original_dataset)==0):\n",
        "            original_image, label = self.original_dataset[idx]\n",
        "        else :\n",
        "            original_image, label = self.original_dataset[idx-int(idx/len (self.original_dataset))]\n",
        "        adv_imgs, class_preds,label_set = adv_analyzer.loop_over_noise(original_image,noise_settings,\n",
        "                                          pred_fn=None,pred_kwargs=None,\n",
        "                                          classifier_fn=None,atk_name=None,\n",
        "                                          atk_kwargs=None,labels=gender_labels)\n",
        "        print(type(adv_imgs),type(label_set))\n",
        "        return adv_imgs, label_set\n",
        "adv_dataset=AdversarialDataset(celeba_train_dataset,adv_analyzer,noise_settings)\n",
        "aug_data_loader = DataLoader(adv_dataset, batch_size=batch_size, shuffle=True)\n",
        "it=iter(aug_data_loader)\n",
        "images,labels=next(it)\n",
        "'''\n"
      ]
    },
    {
      "cell_type": "markdown",
      "metadata": {
        "id": "Kd4r4XTedCof"
      },
      "source": [
        "## Training Loop\n"
      ]
    },
    {
      "cell_type": "code",
      "execution_count": 33,
      "metadata": {
        "id": "SO3-TJgeAANb"
      },
      "outputs": [],
      "source": [
        "def train_loop(classifier,dataloader,epoch,class_label_idx,protected_attr_idx,noise_mags,\n",
        "               train_mode,criterion,optimizer,batch_size):\n",
        "\n",
        "  train_loss=0.0\n",
        "  train_acc=0.0\n",
        "\n",
        "  #with tqdm(dataloader, desc=f'Epoch: {epoch + 1}/{num_epochs} - Phase {phase}', ascii=' >=') as pbar:\n",
        "            #for _, (data, target) in enumerate(pbar):\n",
        "  for  i, (data, target) in enumerate(dataloader):\n",
        "    batch_loss=0.0\n",
        "    data, labels = data.to(device), target.to(device)\n",
        "    target = labels[:, class_label_idx]\n",
        "    target = torch.autograd.Variable(target.type(torch.LongTensor).to(device), requires_grad=False)\n",
        "    protected_attr_labels=labels[:,protected_attr_idx]\n",
        "    protected_attr_labels=torch.autograd.Variable(protected_attr_labels.type(torch.LongTensor).to(device), requires_grad=False)\n",
        "    for atk_kwarg in noise_mags.values():\n",
        "\n",
        "        adv_data,adv_labels = adv_analyzer.generate_adverserial_images(images,classifier_fn=None,\n",
        "                                                              pred_fn=None,pred_kwargs=None,\n",
        "                                                              atk_name=None,atk_kwargs=atk_kwarg,\n",
        "                                                              labels=gender_labels)\n",
        "\n",
        "        logits = classifier(adv_data.to(device))\n",
        "        if train_mode=='adv_base':\n",
        "          # Calcualate the loss for all the images\n",
        "          loss = criterion(logits, target)\n",
        "          loss_value = loss.detach().item() # this has to be changed according to batch len\n",
        "          batch_loss+=loss_value\n",
        "\n",
        "          # Backward pass\n",
        "          # Zero the gradients\n",
        "          optimizer.zero_grad()\n",
        "          loss.backward()\n",
        "          optimizer.step()\n",
        "          #print(\"local_loss_value\", loss_value, \"Batch _loss\",batch_loss)\n",
        "          #train_loss+= batch_loss/len (dataloader)\n",
        "\n",
        "    batch_loss/=len (noise_mags.values())\n",
        "    train_loss+=batch_loss\n",
        "    # Calculating batch accuracy\n",
        "    logits = classifier(data)\n",
        "\n",
        "    # Take the argmax of the output\n",
        "    output = torch.argmax(logits, dim=1).unsqueeze(dim=1)\n",
        "    output = torch.autograd.Variable(output.type(torch.FloatTensor).to(device), requires_grad=True)\n",
        "    train_acc+= torch.sum(output == target)\n",
        "    print(output.shape)\n",
        "    print(logits.shape)\n",
        "    if (i%20 == 0):\n",
        "      print(\"Dataloader =\" ,i, \"Total correct\",train_acc,\"Total_samples\",(i+1)*batch_size)\n",
        "\n",
        "  train_acc/=len(dataloader.dataset)\n",
        "  train_loss/=len(dataloader.dataset)\n",
        "\n",
        "  print(\"epoch\", epoch,\"Train Loss\", train_loss,\"train_acc\",train_acc)\n",
        "\n",
        "def val_loop(classifier,dataloader,epoch,class_label_idx,protected_attr_idx,criterion,batch_size):\n",
        "  val_loss = 0.0\n",
        "  val_corrects = 0\n",
        "  total_samples = 0\n",
        "\n",
        "  with torch.no_grad():  # Disable gradient calculation during validation\n",
        "    for inputs, labels in dataloader:\n",
        "          inputs, labels = inputs.to(device), labels.to(device)\n",
        "\n",
        "          # Forward pass\n",
        "          outputs = classifier(inputs)\n",
        "          loss = criterion(outputs, labels)\n",
        "\n",
        "          # Compute the total loss\n",
        "          val_loss += loss.item() * inputs.size(0)\n",
        "\n",
        "          # Calculate accuracy\n",
        "          _, preds = torch.max(outputs, 1)\n",
        "          val_corrects += torch.sum(preds == labels.data)\n",
        "          total_samples += inputs.size(0)\n",
        "\n",
        "  # Calculate average loss and accuracy for the entire validation dataset\n",
        "  avg_val_loss = val_loss / total_samples\n",
        "  accuracy = val_corrects.double() / total_samples\n",
        "  print(\"Val loss\", avg_val_loss, \"Accuracy\",accuracy)\n",
        "  return avg_val_loss, accuracy\n",
        "\n",
        "\n",
        "\n",
        "\n"
      ]
    },
    {
      "cell_type": "code",
      "execution_count": 34,
      "metadata": {
        "id": "tlk7f_z9Axg3"
      },
      "outputs": [],
      "source": [
        "\n",
        "def adv_train(classifier,attr_classifier,adversarial_analyzer,train_loader, val_loader, criterion, optimizer,\n",
        "          noise_mags,class_label_idx,protected_attr_idx, device,train_mode='adv_base'):\n",
        "  print(noise_mags.items())\n",
        "  '''\n",
        "  Training function\n",
        "  '''\n",
        "\n",
        "\n",
        "  for epoch in range (num_epochs):\n",
        "\n",
        "      for phase in ['train','val']:\n",
        "        dataloader = train_loader if phase == 'train' else val_loader\n",
        "        if phase == 'train':\n",
        "            classifier.train()\n",
        "            train_loop(classifier,dataloader,epoch,class_label_idx,protected_attr_idx,noise_mags,\n",
        "               train_mode,criterion,optimizer,batch_size)\n",
        "        else:\n",
        "            classifier.eval()\n",
        "            val_loop(classifier,dataloader,epoch,class_label_idx,protected_attr_idx,criterion,batch_size)\n",
        "\n",
        "  '''\n",
        "    print(\"Epoch\")\n",
        "    print(noise_mags.values())\n",
        "    train_loss=0.0\n",
        "    val_loss=0.0\n",
        "    train_acc=0\n",
        "    val_acc=0\n",
        "    val_acc_history = []\n",
        "    mean_loss=0\n",
        "    for phase in ['train','val']:\n",
        "      dataloader = train_loader if phase == 'train' else val_loader\n",
        "      if phase == 'train':\n",
        "            classifier.train()\n",
        "      else:\n",
        "            classifier.eval()\n",
        "      running_corrects =0\n",
        "      #with tqdm(dataloader, desc=f'Epoch: {epoch + 1}/{num_epochs} - Phase {phase}', ascii=' >=') as pbar:\n",
        "            #for _, (data, target) in enumerate(pbar):\n",
        "      train_loss=0.0\n",
        "      val_loss=0.0\n",
        "      for  i, (data, target) in enumerate(dataloader):\n",
        "                batch_loss=0.0\n",
        "                print(\"DataLoader\",i)\n",
        "                data, labels = data.to(device), target.to(device)\n",
        "                target = labels[:, class_label_idx]\n",
        "                target = torch.autograd.Variable(target.type(torch.LongTensor).to(device), requires_grad=False)\n",
        "                protected_attr_labels=labels[:,protected_attr_idx]\n",
        "                protected_attr_labels=torch.autograd.Variable(protected_attr_labels.type(torch.LongTensor).to(device), requires_grad=False)\n",
        "\n",
        "                if phase == 'train':\n",
        "                    for atk_kwarg in noise_mags.values():\n",
        "                        #print(\"atk_kwarg\",atk_kwarg)\n",
        "                        adv_data,adv_labels = adv_analyzer.generate_adverserial_images(images,classifier_fn=None,\n",
        "                                    pred_fn=None,pred_kwargs=None,\n",
        "                                    atk_name=None,atk_kwargs=atk_kwarg,labels=gender_labels)\n",
        "                        #print(\"Target and adv_images shape\", adv_data.shape,adv_labels.shape)\n",
        "                        logits = classifier(adv_data.to(device))\n",
        "                        if train_mode=='adv_base':\n",
        "                          # Calcualate the loss for all the images\n",
        "                          loss = criterion(logits, target)\n",
        "                          loss_value = loss.detach().item() # this has to be changed according to batch len\n",
        "                          batch_loss+=loss_value/len (noise_mags.values())\n",
        "\n",
        "                          # Backward pass\n",
        "                          # Zero the gradients\n",
        "                          optimizer.zero_grad()\n",
        "                          loss.backward()\n",
        "                          optimizer.step()\n",
        "                          #print(\"local_loss_value\", loss_value, \"Batch _loss\",batch_loss)\n",
        "                    train_loss+= batch_loss/len (dataloader)\n",
        "                    #print( \"Train Loss\", train_loss)\n",
        "\n",
        "                    #print(\"Phase\", phase, \"data shape\", data.shape,\"Augmented Images Shape\",augmented_images.shape,\"logits shape\",logits.shape )\n",
        "                    # Update the progress bar\n",
        "                    #pbar.set_postfix(train_loss=f\"{mean_loss:.6f}\", train_acc=f\"{mean_acc:.4f}\",image_shape=augmented_images.shape,data_shape=data.shape)\n",
        "                else :\n",
        "\n",
        "                    # Forward pass\n",
        "                    logits = classifier(data)\n",
        "\n",
        "                    # Take the argmax of the output\n",
        "                    output = torch.argmax(logits, dim=1).unsqueeze(dim=1)\n",
        "                    output = torch.autograd.Variable(output.type(torch.FloatTensor).to(device), requires_grad=True)\n",
        "\n",
        "                    loss = criterion(logits, target)\n",
        "\n",
        "                    loss_value = loss.detach().item() / len(dataloader)\n",
        "\n",
        "                    batch_loss += loss_value\n",
        "\n",
        "                    # Compute the accuracy\n",
        "                    running_corrects += torch.sum(output == target)\n",
        "                    val_acc += running_corrects/ len(dataloader)\n",
        "\n",
        "        if\n",
        "                    # Update the progress bar\n",
        "                    #pbar.set_postfix(val_loss=f\"{loss_value:.6f}\", val_acc=f\"{val_acc:.4f}\",running_correctsf=f\"{running_corrects:.4f}\",image_Shape=data.shape,data_shape=data.shape)\n",
        "\n",
        "\n",
        "                #pbar.update()\n",
        "    '''\n"
      ]
    },
    {
      "cell_type": "code",
      "execution_count": 35,
      "metadata": {
        "id": "KZsMjcNLBTR9"
      },
      "outputs": [],
      "source": [
        "def return_optimizer(model,opt='Adam',LEARNING_RATE = 0.001):\n",
        "    if opt == 'Adam':\n",
        "      return torch.optim.Adam(model.parameters(), lr=LEARNING_RATE)\n",
        "    elif opt == 'SGD':\n",
        "      return  optim.SGD(model.parameters(), lr=LEARNING_RATE, momentum=0.9)\n",
        "optimizer=return_optimizer(model_smile,'Adam')\n",
        "dataloaders_dict ={'train':train_dl,'val':valid_dl}\n",
        "criterion = nn.CrossEntropyLoss()\n",
        "adverserial_analyzer=Adverserial_Analysis(\"FGSM\",model_smile,model_gender,\n",
        "                                  get_pred,get_pred,\n",
        "                                  {'device':device,'logits':False},{'device':device,'logits':False},\n",
        "                                  {'eps':0.05})"
      ]
    },
    {
      "cell_type": "code",
      "execution_count": 18,
      "metadata": {
        "id": "IJ-_HlCNuoEj"
      },
      "outputs": [],
      "source": []
    },
    {
      "cell_type": "code",
      "execution_count": 37,
      "metadata": {
        "colab": {
          "base_uri": "https://localhost:8080/",
          "height": 437
        },
        "id": "_ilcVnV2fSH0",
        "outputId": "1e52a3e9-e965-4419-a0e1-b720a3618f9f"
      },
      "outputs": [
        {
          "output_type": "stream",
          "name": "stdout",
          "text": [
            "dict_items([('0.00001', {'eps': 1e-05}), ('0.0001', {'eps': 0.0001}), ('0.0005', {'eps': 0.0005}), ('0.001', {'eps': 0.001}), ('0.003', {'eps': 0.003}), ('0.005', {'eps': 0.05}), ('0.01', {'eps': 0.05}), ('0.25', {'eps': 0.25})])\n"
          ]
        },
        {
          "output_type": "error",
          "ename": "OutOfMemoryError",
          "evalue": "ignored",
          "traceback": [
            "\u001b[0;31m---------------------------------------------------------------------------\u001b[0m",
            "\u001b[0;31mOutOfMemoryError\u001b[0m                          Traceback (most recent call last)",
            "\u001b[0;32m<ipython-input-37-8eeb3c4b5dab>\u001b[0m in \u001b[0;36m<cell line: 1>\u001b[0;34m()\u001b[0m\n\u001b[0;32m----> 1\u001b[0;31m adv_train(model_smile,model_gender,adverserial_analyzer,train_dl, valid_dl, criterion, optimizer,\n\u001b[0m\u001b[1;32m      2\u001b[0m           noise_setting_1,smile_attr_idx,gender_attr_idx, device,train_mode='adv_base')\n",
            "\u001b[0;32m<ipython-input-34-5de58d35a638>\u001b[0m in \u001b[0;36madv_train\u001b[0;34m(classifier, attr_classifier, adversarial_analyzer, train_loader, val_loader, criterion, optimizer, noise_mags, class_label_idx, protected_attr_idx, device, train_mode)\u001b[0m\n\u001b[1;32m     13\u001b[0m         \u001b[0;32mif\u001b[0m \u001b[0mphase\u001b[0m \u001b[0;34m==\u001b[0m \u001b[0;34m'train'\u001b[0m\u001b[0;34m:\u001b[0m\u001b[0;34m\u001b[0m\u001b[0;34m\u001b[0m\u001b[0m\n\u001b[1;32m     14\u001b[0m             \u001b[0mclassifier\u001b[0m\u001b[0;34m.\u001b[0m\u001b[0mtrain\u001b[0m\u001b[0;34m(\u001b[0m\u001b[0;34m)\u001b[0m\u001b[0;34m\u001b[0m\u001b[0;34m\u001b[0m\u001b[0m\n\u001b[0;32m---> 15\u001b[0;31m             train_loop(classifier,dataloader,epoch,class_label_idx,protected_attr_idx,noise_mags,\n\u001b[0m\u001b[1;32m     16\u001b[0m                train_mode,criterion,optimizer,batch_size)\n\u001b[1;32m     17\u001b[0m         \u001b[0;32melse\u001b[0m\u001b[0;34m:\u001b[0m\u001b[0;34m\u001b[0m\u001b[0;34m\u001b[0m\u001b[0m\n",
            "\u001b[0;32m<ipython-input-33-e123b3da4bac>\u001b[0m in \u001b[0;36mtrain_loop\u001b[0;34m(classifier, dataloader, epoch, class_label_idx, protected_attr_idx, noise_mags, train_mode, criterion, optimizer, batch_size)\u001b[0m\n\u001b[1;32m      9\u001b[0m   \u001b[0;32mfor\u001b[0m  \u001b[0mi\u001b[0m\u001b[0;34m,\u001b[0m \u001b[0;34m(\u001b[0m\u001b[0mdata\u001b[0m\u001b[0;34m,\u001b[0m \u001b[0mtarget\u001b[0m\u001b[0;34m)\u001b[0m \u001b[0;32min\u001b[0m \u001b[0menumerate\u001b[0m\u001b[0;34m(\u001b[0m\u001b[0mdataloader\u001b[0m\u001b[0;34m)\u001b[0m\u001b[0;34m:\u001b[0m\u001b[0;34m\u001b[0m\u001b[0;34m\u001b[0m\u001b[0m\n\u001b[1;32m     10\u001b[0m     \u001b[0mbatch_loss\u001b[0m\u001b[0;34m=\u001b[0m\u001b[0;36m0.0\u001b[0m\u001b[0;34m\u001b[0m\u001b[0;34m\u001b[0m\u001b[0m\n\u001b[0;32m---> 11\u001b[0;31m     \u001b[0mdata\u001b[0m\u001b[0;34m,\u001b[0m \u001b[0mlabels\u001b[0m \u001b[0;34m=\u001b[0m \u001b[0mdata\u001b[0m\u001b[0;34m.\u001b[0m\u001b[0mto\u001b[0m\u001b[0;34m(\u001b[0m\u001b[0mdevice\u001b[0m\u001b[0;34m)\u001b[0m\u001b[0;34m,\u001b[0m \u001b[0mtarget\u001b[0m\u001b[0;34m.\u001b[0m\u001b[0mto\u001b[0m\u001b[0;34m(\u001b[0m\u001b[0mdevice\u001b[0m\u001b[0;34m)\u001b[0m\u001b[0;34m\u001b[0m\u001b[0;34m\u001b[0m\u001b[0m\n\u001b[0m\u001b[1;32m     12\u001b[0m     \u001b[0mtarget\u001b[0m \u001b[0;34m=\u001b[0m \u001b[0mlabels\u001b[0m\u001b[0;34m[\u001b[0m\u001b[0;34m:\u001b[0m\u001b[0;34m,\u001b[0m \u001b[0mclass_label_idx\u001b[0m\u001b[0;34m]\u001b[0m\u001b[0;34m\u001b[0m\u001b[0;34m\u001b[0m\u001b[0m\n\u001b[1;32m     13\u001b[0m     \u001b[0mtarget\u001b[0m \u001b[0;34m=\u001b[0m \u001b[0mtorch\u001b[0m\u001b[0;34m.\u001b[0m\u001b[0mautograd\u001b[0m\u001b[0;34m.\u001b[0m\u001b[0mVariable\u001b[0m\u001b[0;34m(\u001b[0m\u001b[0mtarget\u001b[0m\u001b[0;34m.\u001b[0m\u001b[0mtype\u001b[0m\u001b[0;34m(\u001b[0m\u001b[0mtorch\u001b[0m\u001b[0;34m.\u001b[0m\u001b[0mLongTensor\u001b[0m\u001b[0;34m)\u001b[0m\u001b[0;34m.\u001b[0m\u001b[0mto\u001b[0m\u001b[0;34m(\u001b[0m\u001b[0mdevice\u001b[0m\u001b[0;34m)\u001b[0m\u001b[0;34m,\u001b[0m \u001b[0mrequires_grad\u001b[0m\u001b[0;34m=\u001b[0m\u001b[0;32mFalse\u001b[0m\u001b[0;34m)\u001b[0m\u001b[0;34m\u001b[0m\u001b[0;34m\u001b[0m\u001b[0m\n",
            "\u001b[0;31mOutOfMemoryError\u001b[0m: CUDA out of memory. Tried to allocate 24.00 MiB (GPU 0; 14.75 GiB total capacity; 13.62 GiB already allocated; 832.00 KiB free; 13.67 GiB reserved in total by PyTorch) If reserved memory is >> allocated memory try setting max_split_size_mb to avoid fragmentation.  See documentation for Memory Management and PYTORCH_CUDA_ALLOC_CONF"
          ]
        }
      ],
      "source": [
        "adv_train(model_smile,model_gender,adverserial_analyzer,train_dl, valid_dl, criterion, optimizer,\n",
        "          noise_setting_1,smile_attr_idx,gender_attr_idx, device,train_mode='adv_base')"
      ]
    },
    {
      "cell_type": "code",
      "execution_count": null,
      "metadata": {
        "colab": {
          "background_save": true
        },
        "id": "qmx3bnWBMo4c"
      },
      "outputs": [],
      "source": []
    }
  ],
  "metadata": {
    "accelerator": "GPU",
    "colab": {
      "machine_shape": "hm",
      "provenance": [],
      "authorship_tag": "ABX9TyNMrwu0VeWxrtg7DG5a+a45",
      "include_colab_link": true
    },
    "kernelspec": {
      "display_name": "Python 3",
      "name": "python3"
    },
    "language_info": {
      "name": "python"
    }
  },
  "nbformat": 4,
  "nbformat_minor": 0
}